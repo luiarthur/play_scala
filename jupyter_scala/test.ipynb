{
 "cells": [
  {
   "cell_type": "markdown",
   "metadata": {},
   "source": [
    "<meta name=\"keywords\" content=\"Demo for Inline Plotting with Jupyter-Scala Jupyter Scala inline plot plotting example demo\">\n",
    "# Demo for Inline Plotting with Jupyter-Scala\n",
    "\n",
    "Jupyter-Scala provides a productive and interactive environment for Scala.\n",
    "The default for Jupyter-Scala makes plots appear outside the output.\n",
    "This demo shows how by creating an `inlineplot` function, plots in \n",
    "breeze-viz can be directed to output."
   ]
  },
  {
   "cell_type": "markdown",
   "metadata": {},
   "source": [
    "### First we load the libraries necessary"
   ]
  },
  {
   "cell_type": "code",
   "execution_count": 19,
   "metadata": {
    "collapsed": false
   },
   "outputs": [
    {
     "name": "stdout",
     "output_type": "stream",
     "text": [
      ":: problems summary ::\n",
      ":::: WARNINGS\n",
      "\tUnable to reparse com.github.alexarchambault.jupyter#jupyter-scala-api_2.11.6;0.2.0-SNAPSHOT from sonatype-snapshots, using Thu Dec 24 06:50:58 PST 2015\n",
      "\n",
      "\tChoosing sonatype-snapshots for com.github.alexarchambault.jupyter#jupyter-scala-api_2.11.6;0.2.0-SNAPSHOT\n",
      "\n",
      "\tUnable to reparse com.github.alexarchambault#ammonite-api_2.11.6;0.3.1-SNAPSHOT from sonatype-snapshots, using Wed Oct 21 02:43:36 PDT 2015\n",
      "\n",
      "\tChoosing sonatype-snapshots for com.github.alexarchambault#ammonite-api_2.11.6;0.3.1-SNAPSHOT\n",
      "\n",
      "\tUnable to reparse com.github.alexarchambault.jupyter#jupyter-api_2.11;0.2.0-SNAPSHOT from sonatype-snapshots, using Wed Oct 21 08:03:52 PDT 2015\n",
      "\n",
      "\tChoosing sonatype-snapshots for com.github.alexarchambault.jupyter#jupyter-api_2.11;0.2.0-SNAPSHOT\n",
      "\n",
      "\t\tmodule not found: org.apache.commons#commons-io_2.11;1.3.2\n",
      "\n",
      "\t==== local: tried\n",
      "\n",
      "\t  /home/luiarthur/.ivy2/local/org.apache.commons/commons-io_2.11/1.3.2/ivys/ivy.xml\n",
      "\n",
      "\t==== public: tried\n",
      "\n",
      "\t  https://repo1.maven.org/maven2/org/apache/commons/commons-io_2.11/1.3.2/commons-io_2.11-1.3.2.pom\n",
      "\n",
      "\t==== sonatype-snapshots: tried\n",
      "\n",
      "\t  https://oss.sonatype.org/content/repositories/snapshots/org/apache/commons/commons-io_2.11/1.3.2/commons-io_2.11-1.3.2.pom\n",
      "\n",
      ":: problems summary ::\n",
      ":::: WARNINGS\n",
      "\tUnable to reparse com.github.alexarchambault.jupyter#jupyter-scala-api_2.11.6;0.2.0-SNAPSHOT from sonatype-snapshots, using Thu Dec 24 06:50:58 PST 2015\n",
      "\n",
      "\tChoosing sonatype-snapshots for com.github.alexarchambault.jupyter#jupyter-scala-api_2.11.6;0.2.0-SNAPSHOT\n",
      "\n",
      "\tUnable to reparse com.github.alexarchambault#ammonite-api_2.11.6;0.3.1-SNAPSHOT from sonatype-snapshots, using Wed Oct 21 02:43:36 PDT 2015\n",
      "\n",
      "\tChoosing sonatype-snapshots for com.github.alexarchambault#ammonite-api_2.11.6;0.3.1-SNAPSHOT\n",
      "\n",
      "\tUnable to reparse com.github.alexarchambault.jupyter#jupyter-api_2.11;0.2.0-SNAPSHOT from sonatype-snapshots, using Wed Oct 21 08:03:52 PDT 2015\n",
      "\n",
      "\tChoosing sonatype-snapshots for com.github.alexarchambault.jupyter#jupyter-api_2.11;0.2.0-SNAPSHOT\n",
      "\n",
      "\t\tmodule not found: org.apache.commons#commons-io_2.11;1.3.2\n",
      "\n",
      "\t==== local: tried\n",
      "\n",
      "\t  /home/luiarthur/.ivy2/local/org.apache.commons/commons-io_2.11/1.3.2/ivys/ivy.xml\n",
      "\n",
      "\t==== public: tried\n",
      "\n",
      "\t  https://repo1.maven.org/maven2/org/apache/commons/commons-io_2.11/1.3.2/commons-io_2.11-1.3.2.pom\n",
      "\n",
      "\t==== sonatype-snapshots: tried\n",
      "\n",
      "\t  https://oss.sonatype.org/content/repositories/snapshots/org/apache/commons/commons-io_2.11/1.3.2/commons-io_2.11-1.3.2.pom\n",
      "\n",
      ":: problems summary ::\n",
      ":::: WARNINGS\n",
      "\tUnable to reparse com.github.alexarchambault.jupyter#jupyter-scala-api_2.11.6;0.2.0-SNAPSHOT from sonatype-snapshots, using Thu Dec 24 06:50:58 PST 2015\n",
      "\n",
      "\tChoosing sonatype-snapshots for com.github.alexarchambault.jupyter#jupyter-scala-api_2.11.6;0.2.0-SNAPSHOT\n",
      "\n",
      "\tUnable to reparse com.github.alexarchambault#ammonite-api_2.11.6;0.3.1-SNAPSHOT from sonatype-snapshots, using Wed Oct 21 02:43:36 PDT 2015\n",
      "\n",
      "\tChoosing sonatype-snapshots for com.github.alexarchambault#ammonite-api_2.11.6;0.3.1-SNAPSHOT\n",
      "\n",
      "\tUnable to reparse com.github.alexarchambault.jupyter#jupyter-api_2.11;0.2.0-SNAPSHOT from sonatype-snapshots, using Wed Oct 21 08:03:52 PDT 2015\n",
      "\n",
      "\tChoosing sonatype-snapshots for com.github.alexarchambault.jupyter#jupyter-api_2.11;0.2.0-SNAPSHOT\n",
      "\n",
      "\t\tmodule not found: org.apache.commons#commons-io_2.11;1.3.2\n",
      "\n",
      "\t==== local: tried\n",
      "\n",
      "\t  /home/luiarthur/.ivy2/local/org.apache.commons/commons-io_2.11/1.3.2/ivys/ivy.xml\n",
      "\n",
      "\t==== public: tried\n",
      "\n",
      "\t  https://repo1.maven.org/maven2/org/apache/commons/commons-io_2.11/1.3.2/commons-io_2.11-1.3.2.pom\n",
      "\n",
      "\t==== sonatype-snapshots: tried\n",
      "\n",
      "\t  https://oss.sonatype.org/content/repositories/snapshots/org/apache/commons/commons-io_2.11/1.3.2/commons-io_2.11-1.3.2.pom\n",
      "\n",
      ":: problems summary ::\n",
      ":::: WARNINGS\n",
      "\tUnable to reparse com.github.alexarchambault.jupyter#jupyter-scala-api_2.11.6;0.2.0-SNAPSHOT from sonatype-snapshots, using Thu Dec 24 06:50:58 PST 2015\n",
      "\n",
      "\tChoosing sonatype-snapshots for com.github.alexarchambault.jupyter#jupyter-scala-api_2.11.6;0.2.0-SNAPSHOT\n",
      "\n",
      "\tUnable to reparse com.github.alexarchambault#ammonite-api_2.11.6;0.3.1-SNAPSHOT from sonatype-snapshots, using Wed Oct 21 02:43:36 PDT 2015\n",
      "\n",
      "\tChoosing sonatype-snapshots for com.github.alexarchambault#ammonite-api_2.11.6;0.3.1-SNAPSHOT\n",
      "\n",
      "\tUnable to reparse com.github.alexarchambault.jupyter#jupyter-api_2.11;0.2.0-SNAPSHOT from sonatype-snapshots, using Wed Oct 21 08:03:52 PDT 2015\n",
      "\n",
      "\tChoosing sonatype-snapshots for com.github.alexarchambault.jupyter#jupyter-api_2.11;0.2.0-SNAPSHOT\n",
      "\n",
      "\t\tmodule not found: org.apache.commons#commons-io_2.11;1.3.2\n",
      "\n",
      "\t==== local: tried\n",
      "\n",
      "\t  /home/luiarthur/.ivy2/local/org.apache.commons/commons-io_2.11/1.3.2/ivys/ivy.xml\n",
      "\n",
      "\t==== public: tried\n",
      "\n",
      "\t  https://repo1.maven.org/maven2/org/apache/commons/commons-io_2.11/1.3.2/commons-io_2.11-1.3.2.pom\n",
      "\n",
      "\t==== sonatype-snapshots: tried\n",
      "\n",
      "\t  https://oss.sonatype.org/content/repositories/snapshots/org/apache/commons/commons-io_2.11/1.3.2/commons-io_2.11-1.3.2.pom\n",
      "\n",
      "\t\tmodule not found: commons-codec#commons-codec_2.11;1.9\n",
      "\n",
      "\t==== local: tried\n",
      "\n",
      "\t  /home/luiarthur/.ivy2/local/commons-codec/commons-codec_2.11/1.9/ivys/ivy.xml\n",
      "\n",
      "\t==== public: tried\n",
      "\n",
      "\t  https://repo1.maven.org/maven2/commons-codec/commons-codec_2.11/1.9/commons-codec_2.11-1.9.pom\n",
      "\n",
      "\t==== sonatype-snapshots: tried\n",
      "\n",
      "\t  https://oss.sonatype.org/content/repositories/snapshots/commons-codec/commons-codec_2.11/1.9/commons-codec_2.11-1.9.pom\n",
      "\n"
     ]
    },
    {
     "data": {
      "text/plain": []
     },
     "metadata": {},
     "output_type": "display_data"
    }
   ],
   "source": [
    "load.ivy(\"org.scalanlp\" %% \"breeze\" % \"0.12\")\n",
    "load.ivy(\"org.scalanlp\" %% \"breeze-natives\" % \"0.12\")\n",
    "load.ivy(\"org.scalanlp\" %% \"breeze-viz\" % \"0.12\")\n",
    "load.ivy(\"commons-codec\" %% \"commons-codec\" % \"1.9\")\n",
    "// don't mind these comments...\n",
    "// jvmr.jar can be found at https://cran.r-project.org/src/contrib/Archive/jvmr/\n",
    "//load.jar(\"/home/luiarthur/Libs/scala-2.11.8/lib/jvmr_2.11-2.11.2.1.jar\")"
   ]
  },
  {
   "cell_type": "markdown",
   "metadata": {},
   "source": [
    "### Then we need to import the libraries"
   ]
  },
  {
   "cell_type": "code",
   "execution_count": 14,
   "metadata": {
    "collapsed": false
   },
   "outputs": [
    {
     "data": {
      "text/plain": [
       "\u001b[32mimport \u001b[36mbreeze.stats.distributions._\u001b[0m\n",
       "\u001b[32mimport \u001b[36mbreeze.linalg._\u001b[0m\n",
       "\u001b[32mimport \u001b[36mbreeze.plot._\u001b[0m"
      ]
     },
     "metadata": {},
     "output_type": "display_data"
    }
   ],
   "source": [
    "import breeze.stats.distributions._\n",
    "import breeze.linalg._\n",
    "import breeze.plot._\n",
    "// don't mind this comment\n",
    "//import org.ddahl.jvmr.RInScala // this works"
   ]
  },
  {
   "cell_type": "markdown",
   "metadata": {},
   "source": [
    "### Now we create our   `inlineplot`    function for breeze"
   ]
  },
  {
   "cell_type": "code",
   "execution_count": 21,
   "metadata": {
    "collapsed": false
   },
   "outputs": [
    {
     "data": {
      "text/plain": [
       "defined \u001b[32mfunction \u001b[36minlineplot\u001b[0m"
      ]
     },
     "metadata": {},
     "output_type": "display_data"
    }
   ],
   "source": [
    "def inlineplot(P: Plot, imgSz: (Int,Int) = (600,600) )  = {\n",
    "    import org.jfree.chart.encoders.EncoderUtil\n",
    "    import org.apache.commons.codec.binary.Base64\n",
    "    val img = P.chart.createBufferedImage(imgSz._2,imgSz._1,java.awt.image.BufferedImage.TYPE_INT_ARGB,null )\n",
    "    val imageDataString =  Base64.encodeBase64String(EncoderUtil.encode(img, \"png\"))\n",
    "    val imgHeight = imgSz._1\n",
    "    val imgWidth = imgSz._2\n",
    "    val imgTag = s\"\"\"<img height=\"$imgHeight\" width=\"$imgWidth\" src=\"data:image/png;base64,$imageDataString\" />\"\"\"\n",
    "    display.html(imgTag)\n",
    "}"
   ]
  },
  {
   "cell_type": "markdown",
   "metadata": {},
   "source": [
    "### Create a simple plot using `new Plot()`\n",
    "\n",
    "Don't use `Figure()` as that *will* generate a new plotting device."
   ]
  },
  {
   "cell_type": "code",
   "execution_count": 22,
   "metadata": {
    "collapsed": false
   },
   "outputs": [
    {
     "data": {
      "text/plain": [
       "\u001b[36mP\u001b[0m: \u001b[32mPlot\u001b[0m = breeze.plot.Plot@2d9a145f\n",
       "\u001b[36mx\u001b[0m: \u001b[32mDenseVector\u001b[0m[\u001b[32mDouble\u001b[0m] = DenseVector(0.0, 0.010101010101010102, 0.020202020202020204, 0.030303030303030304, 0.04040404040404041, 0.05050505050505051, 0.06060606060606061, 0.07070707070707072, 0.08080808080808081, 0.09090909090909091, 0.10101010101010102, 0.11111111111111112, 0.12121212121212122, 0.13131313131313133, 0.14141414141414144, 0.15151515151515152, 0.16161616161616163, 0.17171717171717174, 0.18181818181818182, 0.19191919191919193, 0.20202020202020204, 0.21212121212121213, 0.22222222222222224, 0.23232323232323235, 0.24242424242424243, 0.25252525252525254, 0.26262626262626265, 0.27272727272727276, 0.2828282828282829, 0.29292929292929293, 0.30303030303030304, 0.31313131313131315, 0.32323232323232326, 0.33333333333333337, 0.3434343434343435, 0.3535353535353536, 0.36363636363636365, 0.37373737373737376, 0.38383838383838387, 0.393939393939394, 0.4040404040404041, 0.4141414141414142, 0.42424242424242425, 0.43434343434343436, 0.4444444444444445, 0.4545454545454546, 0.4646464646464647, 0.4747474747474748, 0.48484848484848486, 0.494949494949495, 0.5050505050505051, 0.5151515151515152, 0.5252525252525253, 0.5353535353535354, 0.5454545454545455, 0.5555555555555556, 0.5656565656565657, 0.5757575757575758, 0.5858585858585859, 0.595959595959596, 0.6060606060606061, 0.6161616161616162, 0.6262626262626263, 0.6363636363636365, 0.6464646464646465, 0.6565656565656566, 0.6666666666666667, 0.6767676767676768, 0.686868686868687, 0.696969696969697, 0.7070707070707072, 0.7171717171717172, 0.7272727272727273, 0.73737\u001b[33m...\u001b[0m\n",
       "\u001b[36mres13_2\u001b[0m: \u001b[32mPlot\u001b[0m = breeze.plot.Plot@2d9a145f\n",
       "\u001b[36mres13_3\u001b[0m: \u001b[32mPlot\u001b[0m = breeze.plot.Plot@2d9a145f"
      ]
     },
     "metadata": {},
     "output_type": "display_data"
    }
   ],
   "source": [
    "val P = new Plot()\n",
    "val x = linspace(0.0,1.0)\n",
    "P += plot(x, x :^ 2.0)\n",
    "P += plot(x, x :^ 3.0, '.')\n",
    "P.xlabel = \"x axis\"\n",
    "P.ylabel = \"y axis\""
   ]
  },
  {
   "cell_type": "markdown",
   "metadata": {},
   "source": [
    "### Notice how clean the output is --  no clutter!"
   ]
  },
  {
   "cell_type": "code",
   "execution_count": 23,
   "metadata": {
    "collapsed": false
   },
   "outputs": [
    {
     "data": {
      "text/html": [
       "<img height=\"300\" width=\"800\" src=\"data:image/png;base64,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\" />"
      ]
     },
     "metadata": {},
     "output_type": "display_data"
    },
    {
     "data": {
      "text/plain": []
     },
     "metadata": {},
     "output_type": "display_data"
    }
   ],
   "source": [
    "inlineplot(P,(300,800))"
   ]
  }
 ],
 "metadata": {
  "celltoolbar": "Edit Metadata",
  "kernelspec": {
   "display_name": "Scala 2.11",
   "language": "scala211",
   "name": "scala211"
  },
  "language_info": {
   "codemirror_mode": "text/x-scala",
   "file_extension": ".scala",
   "mimetype": "text/x-scala",
   "name": "scala211",
   "pygments_lexer": "scala",
   "version": "2.11.6"
  }
 },
 "nbformat": 4,
 "nbformat_minor": 0
}
