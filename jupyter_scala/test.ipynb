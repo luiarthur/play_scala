{
 "cells": [
  {
   "cell_type": "code",
   "execution_count": 2,
   "metadata": {
    "collapsed": false
   },
   "outputs": [
    {
     "name": "stdout",
     "output_type": "stream",
     "text": [
      ":: problems summary ::\n",
      ":::: WARNINGS\n",
      "\tUnable to reparse com.github.alexarchambault.jupyter#jupyter-scala-api_2.11.6;0.2.0-SNAPSHOT from sonatype-snapshots, using Thu Dec 24 06:50:58 PST 2015\n",
      "\n",
      "\tChoosing sonatype-snapshots for com.github.alexarchambault.jupyter#jupyter-scala-api_2.11.6;0.2.0-SNAPSHOT\n",
      "\n",
      "\tUnable to reparse com.github.alexarchambault#ammonite-api_2.11.6;0.3.1-SNAPSHOT from sonatype-snapshots, using Wed Oct 21 02:43:36 PDT 2015\n",
      "\n",
      "\tChoosing sonatype-snapshots for com.github.alexarchambault#ammonite-api_2.11.6;0.3.1-SNAPSHOT\n",
      "\n",
      "\tUnable to reparse com.github.alexarchambault.jupyter#jupyter-api_2.11;0.2.0-SNAPSHOT from sonatype-snapshots, using Wed Oct 21 08:03:52 PDT 2015\n",
      "\n",
      "\tChoosing sonatype-snapshots for com.github.alexarchambault.jupyter#jupyter-api_2.11;0.2.0-SNAPSHOT\n",
      "\n",
      ":: problems summary ::\n",
      ":::: WARNINGS\n",
      "\tUnable to reparse com.github.alexarchambault.jupyter#jupyter-scala-api_2.11.6;0.2.0-SNAPSHOT from sonatype-snapshots, using Thu Dec 24 06:50:58 PST 2015\n",
      "\n",
      "\tChoosing sonatype-snapshots for com.github.alexarchambault.jupyter#jupyter-scala-api_2.11.6;0.2.0-SNAPSHOT\n",
      "\n",
      "\tUnable to reparse com.github.alexarchambault#ammonite-api_2.11.6;0.3.1-SNAPSHOT from sonatype-snapshots, using Wed Oct 21 02:43:36 PDT 2015\n",
      "\n",
      "\tChoosing sonatype-snapshots for com.github.alexarchambault#ammonite-api_2.11.6;0.3.1-SNAPSHOT\n",
      "\n",
      "\tUnable to reparse com.github.alexarchambault.jupyter#jupyter-api_2.11;0.2.0-SNAPSHOT from sonatype-snapshots, using Wed Oct 21 08:03:52 PDT 2015\n",
      "\n",
      "\tChoosing sonatype-snapshots for com.github.alexarchambault.jupyter#jupyter-api_2.11;0.2.0-SNAPSHOT\n",
      "\n",
      ":: problems summary ::\n",
      ":::: WARNINGS\n",
      "\tUnable to reparse com.github.alexarchambault.jupyter#jupyter-scala-api_2.11.6;0.2.0-SNAPSHOT from sonatype-snapshots, using Thu Dec 24 06:50:58 PST 2015\n",
      "\n",
      "\tChoosing sonatype-snapshots for com.github.alexarchambault.jupyter#jupyter-scala-api_2.11.6;0.2.0-SNAPSHOT\n",
      "\n",
      "\tUnable to reparse com.github.alexarchambault#ammonite-api_2.11.6;0.3.1-SNAPSHOT from sonatype-snapshots, using Wed Oct 21 02:43:36 PDT 2015\n",
      "\n",
      "\tChoosing sonatype-snapshots for com.github.alexarchambault#ammonite-api_2.11.6;0.3.1-SNAPSHOT\n",
      "\n",
      "\tUnable to reparse com.github.alexarchambault.jupyter#jupyter-api_2.11;0.2.0-SNAPSHOT from sonatype-snapshots, using Wed Oct 21 08:03:52 PDT 2015\n",
      "\n",
      "\tChoosing sonatype-snapshots for com.github.alexarchambault.jupyter#jupyter-api_2.11;0.2.0-SNAPSHOT\n",
      "\n"
     ]
    },
    {
     "data": {
      "text/plain": []
     },
     "metadata": {},
     "output_type": "display_data"
    }
   ],
   "source": [
    "load.ivy(\"org.scalanlp\" %% \"breeze\" % \"0.12\")\n",
    "load.ivy(\"org.scalanlp\" %% \"breeze-natives\" % \"0.12\")\n",
    "load.ivy(\"org.scalanlp\" %% \"breeze-viz\" % \"0.12\")\n",
    "\n",
    "// jvmr.jar can be found at https://cran.r-project.org/src/contrib/Archive/jvmr/\n",
    "load.jar(\"/home/luiarthur/Libs/scala-2.11.8/lib/jvmr_2.11-2.11.2.1.jar\")"
   ]
  },
  {
   "cell_type": "code",
   "execution_count": 3,
   "metadata": {
    "collapsed": false
   },
   "outputs": [
    {
     "data": {
      "text/plain": [
       "\u001b[32mimport \u001b[36mbreeze.stats.distributions._\u001b[0m\n",
       "\u001b[32mimport \u001b[36mbreeze.linalg._\u001b[0m\n",
       "\u001b[32mimport \u001b[36morg.ddahl.jvmr.RInScala\u001b[0m"
      ]
     },
     "metadata": {},
     "output_type": "display_data"
    }
   ],
   "source": [
    "import breeze.stats.distributions._\n",
    "import breeze.linalg._\n",
    "import org.ddahl.jvmr.RInScala\n",
    "import sys.pro"
   ]
  },
  {
   "cell_type": "code",
   "execution_count": 6,
   "metadata": {
    "collapsed": false
   },
   "outputs": [
    {
     "data": {
      "text/plain": [
       "\u001b[36mx\u001b[0m: \u001b[32mIndexedSeq\u001b[0m[\u001b[32mDouble\u001b[0m] = \u001b[33mVector\u001b[0m(\n",
       "  \u001b[32m-1.1918786473868623\u001b[0m,\n",
       "  \u001b[32m1.3864910400789028\u001b[0m,\n",
       "  \u001b[32m1.1993852814750383\u001b[0m,\n",
       "  \u001b[32m-0.8145360682386941\u001b[0m,\n",
       "  \u001b[32m-0.6228809633412034\u001b[0m,\n",
       "  \u001b[32m1.370368132501255\u001b[0m,\n",
       "  \u001b[32m-0.43155307842756213\u001b[0m,\n",
       "  \u001b[32m-1.030042931523782\u001b[0m,\n",
       "  \u001b[32m1.8337491301420765\u001b[0m,\n",
       "  \u001b[32m-1.6881884701541416\u001b[0m,\n",
       "  \u001b[32m0.5498908409928737\u001b[0m,\n",
       "  \u001b[32m-0.5327768954994349\u001b[0m,\n",
       "  \u001b[32m0.17746363506453364\u001b[0m,\n",
       "  \u001b[32m0.8006981235953534\u001b[0m,\n",
       "\u001b[33m...\u001b[0m\n",
       "\u001b[36mR\u001b[0m: \u001b[32mRInScala\u001b[0m = org.ddahl.jvmr.RInScala@372ff793"
      ]
     },
     "metadata": {},
     "output_type": "display_data"
    }
   ],
   "source": [
    "val x = Gaussian(0,1).sample(1000)\n",
    "val R = RInScala()"
   ]
  },
  {
   "cell_type": "code",
   "execution_count": 13,
   "metadata": {
    "collapsed": false
   },
   "outputs": [
    {
     "data": {
      "text/plain": [
       "\u001b[36mbeta\u001b[0m: \u001b[32mDenseVector\u001b[0m[\u001b[32mDouble\u001b[0m] = DenseVector(-0.16143622131636062)"
      ]
     },
     "metadata": {},
     "output_type": "display_data"
    }
   ],
   "source": [
    "R.eval(\"mod <- lm(rnorm(100) ~ rnorm(100))\")\n",
    "val beta = DenseVector[Double](R.toVector[Double](\"mod$coefficients\"))\n",
    "R.eval(\"svg('tmp.svg')\")\n",
    "R.eval(\"plot(rnorm(100))\")\n",
    "R.eval(\"dev.off()\")"
   ]
  },
  {
   "cell_type": "markdown",
   "metadata": {
    "collapsed": false,
    "slideshow": {
     "slide_type": "notes"
    }
   },
   "source": [
    "![image](tmp.svg)"
   ]
  },
  {
   "cell_type": "code",
   "execution_count": 17,
   "metadata": {
    "collapsed": false
   },
   "outputs": [
    {
     "ename": "",
     "evalue": "",
     "output_type": "error",
     "traceback": [
      "org.ddahl.jvmr.RInScala$REvaluationException: <text>:1:13: unexpected symbol",
      "1: system('rm('tmp.svg",
      "                ^",
      "\torg.ddahl.jvmr.RInScala.org$ddahl$jvmr$RInScala$$throwRException(RInScala.scala:233)",
      "\torg.ddahl.jvmr.RInScala.eval(RInScala.scala:271)",
      "\tcmd13$$user$$anonfun$1.apply$mcV$sp(Main.scala:301)"
     ]
    }
   ],
   "source": []
  },
  {
   "cell_type": "code",
   "execution_count": null,
   "metadata": {
    "collapsed": true
   },
   "outputs": [],
   "source": []
  }
 ],
 "metadata": {
  "celltoolbar": "Slideshow",
  "kernelspec": {
   "display_name": "Scala 2.11",
   "language": "scala211",
   "name": "scala211"
  },
  "language_info": {
   "codemirror_mode": "text/x-scala",
   "file_extension": ".scala",
   "mimetype": "text/x-scala",
   "name": "scala211",
   "pygments_lexer": "scala",
   "version": "2.11.6"
  }
 },
 "nbformat": 4,
 "nbformat_minor": 0
}
