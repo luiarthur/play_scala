{
 "cells": [
  {
   "cell_type": "code",
   "execution_count": null,
   "metadata": {
    "collapsed": false,
    "scrolled": true
   },
   "outputs": [],
   "source": [
    "load.ivy(\"org.scalanlp\" %% \"breeze\" % \"0.12\")\n",
    "load.ivy(\"org.scalanlp\" %% \"breeze-natives\" % \"0.12\")\n",
    "load.ivy(\"org.scalanlp\" %% \"breeze-viz\" % \"0.12\")\n",
    "\n",
    "// jvmr.jar can be found at https://cran.r-project.org/src/contrib/Archive/jvmr/\n",
    "//load.jar(\"/home/luiarthur/Libs/scala-2.11.8/lib/jvmr_2.11-2.11.2.1.jar\")"
   ]
  },
  {
   "cell_type": "code",
   "execution_count": 11,
   "metadata": {
    "collapsed": false
   },
   "outputs": [
    {
     "data": {
      "text/plain": [
       "\u001b[32mimport \u001b[36mbreeze.stats.distributions._\u001b[0m\n",
       "\u001b[32mimport \u001b[36mbreeze.linalg._\u001b[0m\n",
       "\u001b[32mimport \u001b[36mbreeze.plot._\u001b[0m\n",
       "\u001b[32mimport \u001b[36morg.ddahl.jvmr.RInScala\u001b[0m"
      ]
     },
     "metadata": {},
     "output_type": "display_data"
    }
   ],
   "source": [
    "import breeze.stats.distributions._\n",
    "import breeze.linalg._\n",
    "import breeze.plot._\n",
    "//import org.ddahl.jvmr.RInScala"
   ]
  },
  {
   "cell_type": "code",
   "execution_count": 38,
   "metadata": {
    "collapsed": false
   },
   "outputs": [
    {
     "data": {
      "text/plain": [
       "\u001b[36my\u001b[0m: \u001b[32mIndexedSeq\u001b[0m[\u001b[32mDouble\u001b[0m] = \u001b[33mVector\u001b[0m(\n",
       "  \u001b[32m0.5690599943484003\u001b[0m,\n",
       "  \u001b[32m0.5768999145851729\u001b[0m,\n",
       "  \u001b[32m2.4948079880451153\u001b[0m,\n",
       "  \u001b[32m-0.6583172118401734\u001b[0m,\n",
       "  \u001b[32m-0.5635397217029029\u001b[0m,\n",
       "  \u001b[32m0.8413988988659524\u001b[0m,\n",
       "  \u001b[32m-0.020110594573288305\u001b[0m,\n",
       "  \u001b[32m1.1457071319903758\u001b[0m,\n",
       "  \u001b[32m-0.6146770470650426\u001b[0m,\n",
       "  \u001b[32m0.12595269251651067\u001b[0m\n",
       ")"
      ]
     },
     "metadata": {},
     "output_type": "display_data"
    }
   ],
   "source": [
    "val y = Gaussian(0,1).sample(10)"
   ]
  },
  {
   "cell_type": "code",
   "execution_count": 49,
   "metadata": {
    "collapsed": false
   },
   "outputs": [
    {
     "data": {
      "text/plain": [
       "\u001b[36mres24_0\u001b[0m: \u001b[32mammonite\u001b[0m.\u001b[32mpprint\u001b[0m.\u001b[32mShow\u001b[0m[\u001b[32mBoolean\u001b[0m] = false\n",
       "\u001b[36mf\u001b[0m: \u001b[32mFigure\u001b[0m = breeze.plot.Figure@26cfea76\n",
       "\u001b[36mp\u001b[0m: \u001b[32mPlot\u001b[0m = breeze.plot.Plot@30551b4b\n",
       "\u001b[36mx\u001b[0m: \u001b[32mDenseVector\u001b[0m[\u001b[32mDouble\u001b[0m] = DenseVector(0.0, 0.010101010101010102, 0.020202020202020204, 0.030303030303030304, 0.04040404040404041, 0.05050505050505051, 0.06060606060606061, 0.07070707070707072, 0.08080808080808081, 0.09090909090909091, 0.10101010101010102, 0.11111111111111112, 0.12121212121212122, 0.13131313131313133, 0.14141414141414144, 0.15151515151515152, 0.16161616161616163, 0.17171717171717174, 0.18181818181818182, 0.19191919191919193, 0.20202020202020204, 0.21212121212121213, 0.22222222222222224, 0.23232323232323235, 0.24242424242424243, 0.25252525252525254, 0.26262626262626265, 0.27272727272727276, 0.2828282828282829, 0.29292929292929293, 0.30303030303030304, 0.31313131313131315, 0.32323232323232326, 0.33333333333333337, 0.3434343434343435, 0.3535353535353536, 0.36363636363636365, 0.37373737373737376, 0.38383838383838387, 0.393939393939394, 0.4040404040404041, 0.4141414141414142, 0.42424242424242425, 0.43434343434343436, 0.4444444444444445, 0.4545454545454546, 0.4646464646464647, 0.4747474747474748, 0.48484848484848486, 0.494949494949495, 0.5050505050505051, 0.5151515151515152, 0.5252525252525253, 0.5353535353535354, 0.5454545454545455, 0.5555555555555556, 0.5656565656565657, 0.5757575757575758, 0.5858585858585859, 0.595959595959596, 0.6060606060606061, 0.6161616161616162, 0.6262626262626263, 0.6363636363636365, 0.6464646464646465, 0.6565656565656566, 0.6666666666666667, 0.6767676767676768, 0.686868686868687, 0.696969696969697, 0.7070707070707072, 0.7171717171717172, 0.7272727272727273, 0.73737\u001b[33m...\u001b[0m\n",
       "\u001b[36mres24_4\u001b[0m: \u001b[32mPlot\u001b[0m = breeze.plot.Plot@30551b4b\n",
       "\u001b[36mres24_5\u001b[0m: \u001b[32mPlot\u001b[0m = breeze.plot.Plot@30551b4b"
      ]
     },
     "metadata": {},
     "output_type": "display_data"
    }
   ],
   "source": [
    "val f = Figure()\n",
    "val p = f.subplot(0)\n",
    "val x = linspace(0.0,1.0)\n",
    "p += plot(x, x :^ 2.0)\n",
    "p += plot(x, x :^ 3.0, '.')\n",
    "p.xlabel = \"x axis\"\n",
    "p.ylabel = \"y axis\""
   ]
  },
  {
   "cell_type": "code",
   "execution_count": 58,
   "metadata": {
    "collapsed": false
   },
   "outputs": [
    {
     "ename": "",
     "evalue": "",
     "output_type": "error",
     "traceback": [
      "Compilation Failed",
      "\u001b[31mMain.scala:360: not found: value gridplot",
      "gridplot",
      "^\u001b[0m"
     ]
    }
   ],
   "source": [
    "gridplot"
   ]
  },
  {
   "cell_type": "code",
   "execution_count": null,
   "metadata": {
    "collapsed": true
   },
   "outputs": [],
   "source": []
  }
 ],
 "metadata": {
  "celltoolbar": "Edit Metadata",
  "kernelspec": {
   "display_name": "Scala 2.11",
   "language": "scala211",
   "name": "scala211"
  },
  "language_info": {
   "codemirror_mode": "text/x-scala",
   "file_extension": ".scala",
   "mimetype": "text/x-scala",
   "name": "scala211",
   "pygments_lexer": "scala",
   "version": "2.11.6"
  }
 },
 "nbformat": 4,
 "nbformat_minor": 0
}
