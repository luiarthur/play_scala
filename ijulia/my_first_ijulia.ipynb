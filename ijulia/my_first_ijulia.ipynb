{
 "cells": [
  {
   "cell_type": "code",
   "execution_count": 29,
   "metadata": {
    "collapsed": false,
    "scrolled": true,
    "slideshow": {
     "slide_type": "notes"
    }
   },
   "outputs": [
    {
     "data": {
      "text/plain": [
       "0"
      ]
     },
     "execution_count": 29,
     "metadata": {},
     "output_type": "execute_result"
    }
   ],
   "source": [
    "using RCall\n",
    "R_plot = R\"plot\"\n",
    "0\n"
   ]
  },
  {
   "cell_type": "code",
   "execution_count": 25,
   "metadata": {
    "collapsed": false
   },
   "outputs": [
    {
     "data": {
      "image/png": "[encoded data removed]"
     },
     "metadata": {},
     "output_type": "display_data"
    },
    {
     "data": {
      "text/plain": [
       "RCall.RObject{RCall.NilSxp}\n",
       "NULL\n"
      ]
     },
     "execution_count": 25,
     "metadata": {},
     "output_type": "execute_result"
    }
   ],
   "source": [
    "R_plot(randn(100),ylab=\"\",pch=20,cex=3) "
   ]
  },
  {
   "cell_type": "code",
   "execution_count": 22,
   "metadata": {
    "collapsed": false
   },
   "outputs": [
    {
     "ename": "LoadError",
     "evalue": "LoadError: UndefVarError: histogram not defined\nwhile loading In[22], in expression starting on line 9",
     "output_type": "error",
     "traceback": [
      "LoadError: UndefVarError: histogram not defined\nwhile loading In[22], in expression starting on line 9",
      "",
      " in getindex at /home/luiarthur/.julia/v0.4/PyCall/src/PyCall.jl:228",
      " in pysequence_query at /home/luiarthur/.julia/v0.4/PyCall/src/conversions.jl:717",
      " [inlined code] from /home/luiarthur/.julia/v0.4/PyCall/src/conversions.jl:733",
      " in pytype_query at /home/luiarthur/.julia/v0.4/PyCall/src/conversions.jl:762",
      " in convert at /home/luiarthur/.julia/v0.4/PyCall/src/conversions.jl:782",
      " in pycall at /home/luiarthur/.julia/v0.4/PyCall/src/PyCall.jl:363",
      " in call at /home/luiarthur/.julia/v0.4/PyCall/src/PyCall.jl:372",
      " in close_queued_figs at /home/luiarthur/.julia/v0.4/PyPlot/src/PyPlot.jl:401"
     ]
    }
   ],
   "source": [
    "using PyPlot\n",
    "\n",
    "n = 50\n",
    "srand(1)\n",
    "x = rand(n)\n",
    "y = rand(n)\n",
    "area = pi .* (15 .* rand(n)).^2 # 0 to 15 point radiuses\n",
    "scatter(x, y, s=area, alpha=0.5)\n",
    "histogram(x)"
   ]
  },
  {
   "cell_type": "code",
   "execution_count": null,
   "metadata": {
    "collapsed": true
   },
   "outputs": [],
   "source": []
  }
 ],
 "metadata": {
  "kernelspec": {
   "display_name": "Julia 0.4.5",
   "language": "julia",
   "name": "julia-0.4"
  },
  "language_info": {
   "file_extension": ".jl",
   "mimetype": "application/julia",
   "name": "julia",
   "version": "0.4.5"
  }
 },
 "nbformat": 4,
 "nbformat_minor": 0
}
